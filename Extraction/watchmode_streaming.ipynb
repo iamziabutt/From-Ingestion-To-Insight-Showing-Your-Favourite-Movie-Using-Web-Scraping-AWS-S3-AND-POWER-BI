{
 "cells": [
  {
   "cell_type": "code",
   "execution_count": null,
   "id": "00806d78",
   "metadata": {},
   "outputs": [],
   "source": [
    "'''\n",
    "What This Script Does:\n",
    "1. Reads movie titles from the CSV file\n",
    "\n",
    "For each title:\n",
    "\n",
    "2. Searches Watchmode's database for matches\n",
    "3. If found, checks UK streaming availability (region GB)\n",
    "4. Records all subscription and rental options\n",
    "5. Saves results to a JSON file with:\n",
    "\n",
    "    - Movie title\n",
    "    - Available streaming platforms\n",
    "    - Type of availability (subscription/rent)\n",
    "    - Price (for rentals)\n",
    "    - Direct links (when available)\n",
    "\n",
    "6. Converts the json file into csv fiel\n",
    "'''\n",
    "import csv\n",
    "import json\n",
    "import requests\n",
    "from tqdm import tqdm # using this library to show progress bar\n",
    "\n",
    "import pandas as pd\n",
    "from config.watchmode import api_key"
   ]
  },
  {
   "cell_type": "code",
   "execution_count": 13,
   "id": "38d67d16",
   "metadata": {},
   "outputs": [],
   "source": [
    "# configuration\n",
    "\n",
    "'''\n",
    "fetching data from 'imdb-movies.csv' file and picking up 'title' column from this file\n",
    "\n",
    "'''\n",
    "\n",
    "imdb_movies= pd.read_csv('Outputs/imdb-movies.csv') \n",
    "movie_titles = imdb_movies['transformed_title']\n",
    "\n",
    "output_streaming_json = \"streaming_options.json\"\n",
    "watchmode_api_key = api_key\n"
   ]
  },
  {
   "cell_type": "code",
   "execution_count": 14,
   "id": "731d9efc",
   "metadata": {},
   "outputs": [
    {
     "data": {
      "text/plain": [
       "250"
      ]
     },
     "execution_count": 14,
     "metadata": {},
     "output_type": "execute_result"
    }
   ],
   "source": [
    "len(movie_titles)"
   ]
  },
  {
   "cell_type": "code",
   "execution_count": 15,
   "id": "a59a78a6",
   "metadata": {},
   "outputs": [
    {
     "name": "stderr",
     "output_type": "stream",
     "text": [
      "Checking streaming options: 100%|██████████| 250/250 [06:06<00:00,  1.47s/it]\n"
     ]
    }
   ],
   "source": [
    " # Check streaming options for each movie\n",
    "\n",
    "results = []\n",
    "\n",
    "for title in tqdm(movie_titles, desc=\"Checking streaming options\"):\n",
    "\n",
    "    try:\n",
    "        # Search for the title\n",
    "        search_url = f\"https://api.watchmode.com/v1/search/?apiKey={watchmode_api_key}&search_field=name&search_value={title}\"\n",
    "        search_response = requests.get(search_url)\n",
    "        search_response.raise_for_status()\n",
    "        search_data = search_response.json()\n",
    "\n",
    "        # Get the first movie result (if any)\n",
    "        movie_id = None\n",
    "        \n",
    "        if search_data.get('title_results'):\n",
    "            movie_id = search_data['title_results'][0]['id']\n",
    "        \n",
    "        streaming_options = {}\n",
    "       \n",
    "        if movie_id:\n",
    "            # Get streaming sources\n",
    "            sources_url = f\"https://api.watchmode.com/v1/title/{movie_id}/sources/?apiKey={watchmode_api_key}&regions=GB\"\n",
    "            sources_response = requests.get(sources_url)\n",
    "            sources_response.raise_for_status()\n",
    "            sources_data = sources_response.json()\n",
    "\n",
    "            # Process sources\n",
    "            for source in sources_data:\n",
    "                if source['type'] == 'sub':\n",
    "                    streaming_options[source['name']] = {\n",
    "                        'type': 'subscription',\n",
    "                        'url': source.get('web_url', '')\n",
    "                    }\n",
    "                elif source['type'] == 'rent':\n",
    "                    streaming_options[source['name']] = {\n",
    "                        'type': 'rent',\n",
    "                        'price': source.get('price', ''),\n",
    "                        'url': source.get('web_url', '')\n",
    "                    }\n",
    "\n",
    "        # Add to results\n",
    "        results.append({\n",
    "            \"title\": title,\n",
    "            \"streaming_options\": streaming_options,\n",
    "            \"error\": None\n",
    "        })\n",
    "\n",
    "    except requests.exceptions.RequestException as e:\n",
    "        results.append({\n",
    "            \"title\": title,\n",
    "            \"streaming_options\": {},\n",
    "            \"error\": str(e)\n",
    "        })"
   ]
  },
  {
   "cell_type": "code",
   "execution_count": 20,
   "id": "232827c2",
   "metadata": {},
   "outputs": [],
   "source": [
    "# Save results to JSON\n",
    "\n",
    "with open('Outputs/output_streaming_json', 'w', encoding='utf-8') as f:\n",
    "    json.dump(results, f, indent=2)"
   ]
  },
  {
   "cell_type": "code",
   "execution_count": 22,
   "id": "b724ae5c",
   "metadata": {},
   "outputs": [],
   "source": [
    "# Load the JSON data\n",
    "\n",
    "with open('streaming_options.json', 'r') as f:\n",
    "    data = json.load(f)"
   ]
  },
  {
   "cell_type": "code",
   "execution_count": 23,
   "id": "c4bc1918",
   "metadata": {},
   "outputs": [],
   "source": [
    "# Prepare the CSV file\n",
    "\n",
    "with open('Outputs/streaming_options.csv', 'w', newline='') as csvfile:\n",
    "    \n",
    "    writer = csv.writer(csvfile)\n",
    "    writer.writerow(['title', 'platform', 'type', 'url', 'price'])  # Header row\n",
    "    \n",
    "    for movie in data:\n",
    "\n",
    "        title = movie['title']\n",
    "        streaming_options = movie.get('streaming_options', {})\n",
    "        \n",
    "        for platform, details in streaming_options.items():\n",
    "\n",
    "            row = [\n",
    "                title, # movie name\n",
    "                platform, # platform (streaming service)\n",
    "                details['type'], #(subscription/rent)\n",
    "                details.get('url', ''),\n",
    "                str(details.get('price', ''))  # Convert to string to handle None\n",
    "            ]\n",
    "            \n",
    "            writer.writerow(row) # Writes each combination as a row in the CSV"
   ]
  }
 ],
 "metadata": {
  "kernelspec": {
   "display_name": "Python 3",
   "language": "python",
   "name": "python3"
  },
  "language_info": {
   "codemirror_mode": {
    "name": "ipython",
    "version": 3
   },
   "file_extension": ".py",
   "mimetype": "text/x-python",
   "name": "python",
   "nbconvert_exporter": "python",
   "pygments_lexer": "ipython3",
   "version": "3.12.0"
  }
 },
 "nbformat": 4,
 "nbformat_minor": 5
}
