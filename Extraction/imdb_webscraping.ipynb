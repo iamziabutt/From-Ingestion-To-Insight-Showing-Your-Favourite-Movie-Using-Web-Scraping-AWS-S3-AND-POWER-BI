{
 "cells": [
  {
   "cell_type": "code",
   "execution_count": 99,
   "id": "74b26ec7",
   "metadata": {},
   "outputs": [],
   "source": [
    "'''\n",
    "Ojective: Extracting a list of Top 250 movies from IMDB website, along with some key information available\n",
    "Method: Web-scraping\n",
    "Database: IMDB\n",
    "Resource used: Python selenium package\n",
    "\n",
    "'''\n",
    "\n",
    "# importing required libraries\n",
    "\n",
    "import pandas as pd\n",
    "import numpy as np\n",
    "\n",
    "from selenium import webdriver\n",
    "from selenium.webdriver.common.by import  By\n",
    "from selenium.webdriver.chrome.options import Options"
   ]
  },
  {
   "cell_type": "code",
   "execution_count": 100,
   "id": "4b59974e",
   "metadata": {},
   "outputs": [],
   "source": [
    "# intializing seleium driver\n",
    "\n",
    "option = webdriver.ChromeOptions()\n",
    "driver = webdriver.Chrome(options = option)\n",
    "\n",
    "# Website address where the data is being hosted\n",
    "\n",
    "base_url = 'https://www.imdb.com/chart/top/?ref_=nv_mv_250'\n",
    "\n",
    "# this will take you to the imdb website page, do not close that page as the session is live \n",
    "\n",
    "driver.get(base_url)\n",
    "\n",
    "#driver.quit()"
   ]
  },
  {
   "cell_type": "code",
   "execution_count": 101,
   "id": "b1e96056",
   "metadata": {},
   "outputs": [],
   "source": [
    "# finding 250 containers that hold each movie\n",
    "# you could find elements either by class or xpath\n",
    "\n",
    "'''\n",
    "find_element() will fetch one specific element in the container\n",
    "find_elements() will fetch all elements in the container\n",
    "\n",
    "'''\n",
    "\n",
    "movies =driver.find_elements(By.XPATH, \"//div[@class='ipc-metadata-list-summary-item__tc']\")"
   ]
  },
  {
   "cell_type": "code",
   "execution_count": 102,
   "id": "6065ecc9",
   "metadata": {},
   "outputs": [
    {
     "data": {
      "text/plain": [
       "'1. The Shawshank Redemption'"
      ]
     },
     "execution_count": 102,
     "metadata": {},
     "output_type": "execute_result"
    }
   ],
   "source": [
    "# finding 1st element i.e. movie title\n",
    "\n",
    "movies[0].find_element(By.CLASS_NAME, \"ipc-title__text\").text"
   ]
  },
  {
   "cell_type": "code",
   "execution_count": 54,
   "id": "5fd72a99",
   "metadata": {},
   "outputs": [
    {
     "data": {
      "text/plain": [
       "'250. Laapataa Ladies'"
      ]
     },
     "execution_count": 54,
     "metadata": {},
     "output_type": "execute_result"
    }
   ],
   "source": [
    "# finding the last movie title\n",
    "\n",
    "movies[249].find_element(By.CLASS_NAME, \"ipc-title__text\").text"
   ]
  },
  {
   "cell_type": "code",
   "execution_count": 55,
   "id": "e4924c2a",
   "metadata": {},
   "outputs": [
    {
     "data": {
      "text/plain": [
       "['250', ' Laapataa Ladies']"
      ]
     },
     "execution_count": 55,
     "metadata": {},
     "output_type": "execute_result"
    }
   ],
   "source": [
    "# splitting ranking with the title\n",
    "# I will splitting the title string by first period (.). This will produce two elements in the list\n",
    "# I would then use the index [0] and [1] to extract the rank and title\n",
    "\n",
    "movies[249].find_element(By.CLASS_NAME, \"ipc-title__text\").text.split('.',1)"
   ]
  },
  {
   "cell_type": "code",
   "execution_count": null,
   "id": "a24b4722",
   "metadata": {},
   "outputs": [],
   "source": [
    "# Locate parent div by its class for 'Godfather' movie\n",
    "\n",
    "parent_div = movies[1].find_element(By.CLASS_NAME, \"cli-title-metadata\")"
   ]
  },
  {
   "cell_type": "code",
   "execution_count": null,
   "id": "c15f6f2f",
   "metadata": {},
   "outputs": [],
   "source": [
    "# Extract all metadata items within the div\n",
    "\n",
    "metadata_items = parent_div.find_elements(By.CLASS_NAME, \"cli-title-metadata-item\")"
   ]
  },
  {
   "cell_type": "code",
   "execution_count": null,
   "id": "02cc6fa6",
   "metadata": {},
   "outputs": [
    {
     "data": {
      "text/plain": [
       "'1972'"
      ]
     },
     "execution_count": 142,
     "metadata": {},
     "output_type": "execute_result"
    }
   ],
   "source": [
    "# Access elements by index:\n",
    "\n",
    "year = metadata_items[0].text \n",
    "year"
   ]
  },
  {
   "cell_type": "code",
   "execution_count": null,
   "id": "ccf56415",
   "metadata": {},
   "outputs": [
    {
     "data": {
      "text/plain": [
       "'2h 55m'"
      ]
     },
     "execution_count": 143,
     "metadata": {},
     "output_type": "execute_result"
    }
   ],
   "source": [
    "# Access elements by index:\n",
    "\n",
    "duration = metadata_items[1].text \n",
    "duration"
   ]
  },
  {
   "cell_type": "code",
   "execution_count": null,
   "id": "00de55f1",
   "metadata": {},
   "outputs": [
    {
     "data": {
      "text/plain": [
       "'15'"
      ]
     },
     "execution_count": 144,
     "metadata": {},
     "output_type": "execute_result"
    }
   ],
   "source": [
    "# Access elements by index:\n",
    "\n",
    "rating = metadata_items[2].text\n",
    "rating"
   ]
  },
  {
   "cell_type": "code",
   "execution_count": 146,
   "id": "dbbba24c",
   "metadata": {},
   "outputs": [
    {
     "data": {
      "text/plain": [
       "'9.2'"
      ]
     },
     "execution_count": 146,
     "metadata": {},
     "output_type": "execute_result"
    }
   ],
   "source": [
    "# extracting star rating element\n",
    "\n",
    "movies[1].find_element(By.CLASS_NAME, \"ipc-rating-star--rating\").text"
   ]
  },
  {
   "cell_type": "code",
   "execution_count": 149,
   "id": "01cf6fa4",
   "metadata": {},
   "outputs": [
    {
     "data": {
      "text/plain": [
       "' (2.1M)'"
      ]
     },
     "execution_count": 149,
     "metadata": {},
     "output_type": "execute_result"
    }
   ],
   "source": [
    "# extracting votecount element\n",
    "\n",
    "movies[1].find_element(By.CLASS_NAME, \"ipc-rating-star--voteCount\").text"
   ]
  },
  {
   "cell_type": "code",
   "execution_count": 150,
   "id": "1d79ddea",
   "metadata": {},
   "outputs": [],
   "source": [
    "# creating dictionery of schema of movie data\n",
    "\n",
    "elements_dict ={\n",
    "    'rank': np.nan, #if a value is missed then use NAN\n",
    "    'title': np.nan,\n",
    "    'release_year':np.nan,\n",
    "    'duration':np.nan,\n",
    "    'rate_type':np.nan,\n",
    "    'star_rating':np.nan,\n",
    "    'vote_count':np.nan\n",
    "}"
   ]
  },
  {
   "cell_type": "code",
   "execution_count": null,
   "id": "d9682d7f",
   "metadata": {},
   "outputs": [],
   "source": [
    "# creating a blank data object\n",
    "\n",
    "data = []\n",
    "\n",
    "# looping through individual movies\n",
    "\n",
    "try:\n",
    "    for movie_list in movies:\n",
    "        row = elements_dict.copy()\n",
    "        try:\n",
    "                  \n",
    "            row['title'] = movie_list.find_element(By.CLASS_NAME, \"ipc-title__text\").text.split('.',1)[1]\n",
    "            row['rank'] = movie_list.find_element(By.CLASS_NAME, \"ipc-title__text\").text.split('.',1)[0]\n",
    "        except:\n",
    "            \"No elements found (1)\"\n",
    "    \n",
    "        try:\n",
    "                      \n",
    "            parent_div = movie_list.find_element(By.CLASS_NAME, \"cli-title-metadata\")\n",
    "            try:\n",
    "                elements = parent_div.find_elements(By.CLASS_NAME, \"cli-title-metadata-item\")\n",
    "                row['release_year'] = elements[0].text\n",
    "                row['duration'] = elements[1].text\n",
    "                row['rate_type'] = elements[2].text\n",
    "            except:\n",
    "                \"No elements found (2)\"\n",
    "        except:\n",
    "            \"No elements found (3)\"\n",
    "\n",
    "        try:\n",
    "            row['star_rating']= movie_list.find_element(By.CLASS_NAME, \"ipc-rating-star--rating\").text\n",
    "        except:\n",
    "            \"No elements found (4)\"\n",
    "    \n",
    "        try:\n",
    "           row['vote_count'] =movie_list.find_element(By.CLASS_NAME, \"ipc-rating-star--voteCount\").text\n",
    "        except:\n",
    "             \"No elements found (5)\"\n",
    "        \n",
    "        data.append(row)\n",
    "except:\n",
    "    driver.quit()\n",
    "    \n",
    "driver.quit()"
   ]
  },
  {
   "cell_type": "code",
   "execution_count": 152,
   "id": "c4d565db",
   "metadata": {},
   "outputs": [
    {
     "data": {
      "text/plain": [
       "(250, 7)"
      ]
     },
     "execution_count": 152,
     "metadata": {},
     "output_type": "execute_result"
    }
   ],
   "source": [
    "# converting the results into a dataframe\n",
    "\n",
    "df = pd.DataFrame(data)\n",
    "\n",
    "df.shape\n"
   ]
  },
  {
   "cell_type": "code",
   "execution_count": 153,
   "id": "8649d09f",
   "metadata": {},
   "outputs": [
    {
     "name": "stdout",
     "output_type": "stream",
     "text": [
      "    rank                                              title release_year  \\\n",
      "0      1                           The Shawshank Redemption         1994   \n",
      "1      2                                      The Godfather         1972   \n",
      "2      3                                    The Dark Knight         2008   \n",
      "3      4                              The Godfather Part II         1974   \n",
      "4      5                                       12 Angry Men         1957   \n",
      "..   ...                                                ...          ...   \n",
      "245  246                                           The Help         2011   \n",
      "246  247                                     I'm Still Here         2024   \n",
      "247  248                                 Gangs of Wasseypur         2012   \n",
      "248  249   Demon Slayer: Kimetsu no Yaiba - The Movie: M...         2020   \n",
      "249  250                                          Andhadhun         2018   \n",
      "\n",
      "    duration rate_type star_rating vote_count  \n",
      "0     2h 22m        15         9.3     (3.1M)  \n",
      "1     2h 55m        15         9.2     (2.1M)  \n",
      "2     2h 32m       12A         9.0       (3M)  \n",
      "3     3h 22m         X         9.0     (1.4M)  \n",
      "4     1h 36m         U         9.0     (935K)  \n",
      "..       ...       ...         ...        ...  \n",
      "245   2h 26m       12A         8.1     (515K)  \n",
      "246   2h 17m        15         8.2     (114K)  \n",
      "247   5h 21m        18         8.2     (109K)  \n",
      "248   1h 57m        15         8.2      (85K)  \n",
      "249   2h 19m       12A         8.2     (110K)  \n",
      "\n",
      "[250 rows x 7 columns]\n"
     ]
    }
   ],
   "source": [
    "print(df)"
   ]
  },
  {
   "cell_type": "code",
   "execution_count": 154,
   "id": "e577f2c3",
   "metadata": {},
   "outputs": [],
   "source": [
    "# cleaning and normalizing the movie titles\n",
    "\n",
    "df['transformed_title'] = df['title'].str.strip().str.lower()"
   ]
  },
  {
   "cell_type": "code",
   "execution_count": 155,
   "id": "430dfb03",
   "metadata": {},
   "outputs": [
    {
     "data": {
      "text/plain": [
       "['rank',\n",
       " 'title',\n",
       " 'release_year',\n",
       " 'duration',\n",
       " 'rate_type',\n",
       " 'star_rating',\n",
       " 'vote_count',\n",
       " 'transformed_title']"
      ]
     },
     "execution_count": 155,
     "metadata": {},
     "output_type": "execute_result"
    }
   ],
   "source": [
    "list(df)"
   ]
  },
  {
   "cell_type": "code",
   "execution_count": 156,
   "id": "6feb2d1f",
   "metadata": {},
   "outputs": [
    {
     "data": {
      "text/plain": [
       "(250, 8)"
      ]
     },
     "execution_count": 156,
     "metadata": {},
     "output_type": "execute_result"
    }
   ],
   "source": [
    "df.shape"
   ]
  },
  {
   "cell_type": "code",
   "execution_count": 157,
   "id": "7379a93e",
   "metadata": {},
   "outputs": [],
   "source": [
    "# converting the results into a dataframe and writing as a csv file\n",
    "\n",
    "import os\n",
    "\n",
    "myDir = 'D:/Zia/data-engineering/Projects/Imdb-movies-project/Outputs'\n",
    "path = os.path.join(myDir, 'imdb-movies.csv')\n",
    "\n",
    "df.to_csv(path, index= False)"
   ]
  }
 ],
 "metadata": {
  "kernelspec": {
   "display_name": "Python 3",
   "language": "python",
   "name": "python3"
  },
  "language_info": {
   "codemirror_mode": {
    "name": "ipython",
    "version": 3
   },
   "file_extension": ".py",
   "mimetype": "text/x-python",
   "name": "python",
   "nbconvert_exporter": "python",
   "pygments_lexer": "ipython3",
   "version": "3.12.0"
  }
 },
 "nbformat": 4,
 "nbformat_minor": 5
}
