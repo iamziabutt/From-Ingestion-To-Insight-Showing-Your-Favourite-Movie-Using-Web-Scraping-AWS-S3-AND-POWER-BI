{
 "cells": [
  {
   "cell_type": "code",
   "execution_count": 1,
   "id": "c3d909f0",
   "metadata": {},
   "outputs": [],
   "source": [
    "import pandas as pd\n",
    "\n",
    "# loading both csv files imdb_movies.csv and streaming_options.csv into a dataframe\n",
    "\n",
    "imdb_path = 'D:/Zia/data-engineering/Projects/Imdb-movies-project/Outputs/imdb-movies.csv'\n",
    "watchmode_path = 'D:/Zia/data-engineering/Projects/Imdb-movies-project/Outputs/streaming_options.csv'\n",
    "\n",
    "df_imdb= pd.read_csv(imdb_path) \n",
    "df_wm = pd.read_csv(watchmode_path, encoding='latin1') # using encoding to counter non-utf-8 encoded data error\n",
    "\n"
   ]
  },
  {
   "cell_type": "code",
   "execution_count": 2,
   "id": "59f03ff0",
   "metadata": {},
   "outputs": [
    {
     "name": "stdout",
     "output_type": "stream",
     "text": [
      "(250, 8)\n",
      "(1261, 5)\n"
     ]
    }
   ],
   "source": [
    "print(df_imdb.shape)\n",
    "print(df_wm.shape)"
   ]
  },
  {
   "cell_type": "code",
   "execution_count": 3,
   "id": "ee964c48",
   "metadata": {},
   "outputs": [
    {
     "name": "stdout",
     "output_type": "stream",
     "text": [
      "['rank', 'title', 'release_year', 'duration', 'rate_type', 'star_rating', 'vote_count', 'transformed_title']\n",
      "['title', 'platform', 'type', 'url', 'price']\n"
     ]
    }
   ],
   "source": [
    "print (list(df_imdb))\n",
    "print (list(df_wm))"
   ]
  },
  {
   "cell_type": "code",
   "execution_count": 5,
   "id": "3d03417c",
   "metadata": {},
   "outputs": [
    {
     "data": {
      "text/plain": [
       "['transformed_title', 'platform', 'type', 'url', 'price']"
      ]
     },
     "execution_count": 5,
     "metadata": {},
     "output_type": "execute_result"
    }
   ],
   "source": [
    "df_wm=df_wm.rename(columns={'title': 'transformed_title'})\n",
    "list(df_wm)"
   ]
  },
  {
   "cell_type": "code",
   "execution_count": 6,
   "id": "fcab8b9b",
   "metadata": {},
   "outputs": [
    {
     "data": {
      "text/plain": [
       "['transformed_title', 'platform', 'price']"
      ]
     },
     "execution_count": 6,
     "metadata": {},
     "output_type": "execute_result"
    }
   ],
   "source": [
    "# picking up only 3 columns\n",
    "\n",
    "df_wm = df_wm.filter(['transformed_title','platform','price'])\n",
    "\n",
    "list(df_wm)"
   ]
  },
  {
   "cell_type": "code",
   "execution_count": 7,
   "id": "008274cc",
   "metadata": {},
   "outputs": [],
   "source": [
    "# merging both dataframes into one combined dataframe\n",
    "\n",
    "df_combined = pd.merge(df_imdb,df_wm, on='transformed_title', how='left')"
   ]
  },
  {
   "cell_type": "code",
   "execution_count": 8,
   "id": "3366174e",
   "metadata": {},
   "outputs": [
    {
     "name": "stdout",
     "output_type": "stream",
     "text": [
      "(1280, 10)\n"
     ]
    }
   ],
   "source": [
    "print(df_combined.shape)"
   ]
  },
  {
   "cell_type": "code",
   "execution_count": 9,
   "id": "44bc2caa",
   "metadata": {},
   "outputs": [],
   "source": [
    "# writing combined dataframe into a csv file\n",
    "\n",
    "import os\n",
    "\n",
    "myDir = 'D:/Zia/data-engineering/Projects/Imdb-movies-project/Outputs'\n",
    "path = os.path.join(myDir, 'final_dataset.csv')\n",
    "\n",
    "df_combined.to_csv(path, index= False)"
   ]
  }
 ],
 "metadata": {
  "kernelspec": {
   "display_name": "Python 3",
   "language": "python",
   "name": "python3"
  },
  "language_info": {
   "codemirror_mode": {
    "name": "ipython",
    "version": 3
   },
   "file_extension": ".py",
   "mimetype": "text/x-python",
   "name": "python",
   "nbconvert_exporter": "python",
   "pygments_lexer": "ipython3",
   "version": "3.12.0"
  }
 },
 "nbformat": 4,
 "nbformat_minor": 5
}
