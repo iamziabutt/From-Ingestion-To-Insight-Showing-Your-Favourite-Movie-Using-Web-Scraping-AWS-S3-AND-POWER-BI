{
 "cells": [
  {
   "cell_type": "code",
   "execution_count": 3,
   "id": "0aaff722",
   "metadata": {},
   "outputs": [],
   "source": [
    "# importing required packages\n",
    "\n",
    "import boto3\n",
    "import pandas as pd\n",
    "import configparser\n",
    "import os"
   ]
  },
  {
   "cell_type": "code",
   "execution_count": null,
   "id": "a0a68268",
   "metadata": {},
   "outputs": [],
   "source": [
    "# path configurations\n",
    "\n",
    "myDir = 'D:/Zia/data-engineering/Projects/Imdb-movies-project/Loading'\n",
    "path = os.path.join(myDir, 'D:/Zia/data-engineering/Projects/Imdb-movies-project/','config','credentials.ini')"
   ]
  },
  {
   "cell_type": "code",
   "execution_count": null,
   "id": "2f654fbd",
   "metadata": {},
   "outputs": [
    {
     "data": {
      "text/plain": [
       "['D:/Zia/data-engineering/Projects/Imdb-movies-project/config\\\\credentials.ini']"
      ]
     },
     "execution_count": 5,
     "metadata": {},
     "output_type": "execute_result"
    }
   ],
   "source": [
    "# confirming the path is not fetching []\n",
    "\n",
    "config = configparser.ConfigParser()\n",
    "config.read(path)"
   ]
  },
  {
   "cell_type": "code",
   "execution_count": null,
   "id": "61b82a1a",
   "metadata": {},
   "outputs": [
    {
     "name": "stdout",
     "output_type": "stream",
     "text": [
      "Config path: D:\\Zia\\data-engineering\\Projects\\Imdb-movies-project\\config\\credentials.ini\n"
     ]
    }
   ],
   "source": [
    "# Verification\n",
    "\n",
    "print(f\"Config path: {os.path.abspath(path)}\")"
   ]
  },
  {
   "cell_type": "code",
   "execution_count": null,
   "id": "4ebcec71",
   "metadata": {},
   "outputs": [],
   "source": [
    "# aws configurations\n",
    "\n",
    "aws_bucket = config['AWS']['bucket_name']\n",
    "aws_access_key = config['AWS']['access_key']\n",
    "aws_secret_key = config['AWS']['secret_key']\n"
   ]
  },
  {
   "cell_type": "code",
   "execution_count": 11,
   "id": "f05e7e17",
   "metadata": {},
   "outputs": [
    {
     "name": "stdout",
     "output_type": "stream",
     "text": [
      "(1280, 10)\n"
     ]
    }
   ],
   "source": [
    "# Importing and converting final_dataset.csv file into a data frame\n",
    "\n",
    "myDir = 'D:/Zia/data-engineering/Projects/Imdb-movies-project/Loading'\n",
    "path = os.path.join(myDir, 'D:/Zia/data-engineering/Projects/Imdb-movies-project/','Outputs','final_dataset.csv')\n",
    "\n",
    "df_final= pd.read_csv(path) \n",
    "print (df_final.shape)\n"
   ]
  },
  {
   "cell_type": "code",
   "execution_count": 12,
   "id": "053188ec",
   "metadata": {},
   "outputs": [],
   "source": [
    "# setting up S3 client\n",
    "\n",
    "s3 = boto3.client(\n",
    "    's3',\n",
    "    aws_access_key_id=aws_access_key,\n",
    "    aws_secret_access_key=aws_secret_key\n",
    "    )"
   ]
  },
  {
   "cell_type": "code",
   "execution_count": null,
   "id": "a86560fe",
   "metadata": {},
   "outputs": [],
   "source": [
    "# writing data to a string buffer, then uploading that buffer to s3\n",
    "import io\n",
    "\n",
    "csv_buffer = io.StringIO()\n",
    "\n",
    "df_final.to_csv(csv_buffer, index=False) #converting in memory\n"
   ]
  },
  {
   "cell_type": "code",
   "execution_count": null,
   "id": "1770e2b5",
   "metadata": {},
   "outputs": [
    {
     "data": {
      "text/plain": [
       "{'ResponseMetadata': {'RequestId': 'RJRZREQQXW9JQJ12',\n",
       "  'HostId': 'DLoD6rHBU2tFxV//eBMWgKPxPlOY0NffHNs4n/VcvbSYzwO8MlTXdDfItwzzXXFBHlY2ma/GSoyZYaDtzyEHHQ==',\n",
       "  'HTTPStatusCode': 200,\n",
       "  'HTTPHeaders': {'x-amz-id-2': 'DLoD6rHBU2tFxV//eBMWgKPxPlOY0NffHNs4n/VcvbSYzwO8MlTXdDfItwzzXXFBHlY2ma/GSoyZYaDtzyEHHQ==',\n",
       "   'x-amz-request-id': 'RJRZREQQXW9JQJ12',\n",
       "   'date': 'Fri, 04 Jul 2025 11:46:15 GMT',\n",
       "   'x-amz-version-id': 'f3TFh1HQtQau19N1NdOhunj27tSAljcH',\n",
       "   'x-amz-server-side-encryption': 'AES256',\n",
       "   'etag': '\"00fac7f26e67dc16c58cdc7c0eac73e4\"',\n",
       "   'x-amz-checksum-crc32': 'SOwSqQ==',\n",
       "   'x-amz-checksum-type': 'FULL_OBJECT',\n",
       "   'content-length': '0',\n",
       "   'server': 'AmazonS3'},\n",
       "  'RetryAttempts': 0},\n",
       " 'ETag': '\"00fac7f26e67dc16c58cdc7c0eac73e4\"',\n",
       " 'ChecksumCRC32': 'SOwSqQ==',\n",
       " 'ChecksumType': 'FULL_OBJECT',\n",
       " 'ServerSideEncryption': 'AES256',\n",
       " 'VersionId': 'f3TFh1HQtQau19N1NdOhunj27tSAljcH'}"
      ]
     },
     "execution_count": 15,
     "metadata": {},
     "output_type": "execute_result"
    }
   ],
   "source": [
    "# writing to s3 bucket\n",
    "# Key = saving file as imdb_top_250.csv in s3 bucket\n",
    "\n",
    "s3.put_object(Bucket=aws_bucket, Key='imdb_top_250.csv', Body=csv_buffer.getvalue())"
   ]
  }
 ],
 "metadata": {
  "kernelspec": {
   "display_name": "Python 3",
   "language": "python",
   "name": "python3"
  },
  "language_info": {
   "codemirror_mode": {
    "name": "ipython",
    "version": 3
   },
   "file_extension": ".py",
   "mimetype": "text/x-python",
   "name": "python",
   "nbconvert_exporter": "python",
   "pygments_lexer": "ipython3",
   "version": "3.12.0"
  }
 },
 "nbformat": 4,
 "nbformat_minor": 5
}
